{
  "nbformat": 4,
  "nbformat_minor": 0,
  "metadata": {
    "colab": {
      "name": "linear regression",
      "provenance": [],
      "collapsed_sections": [],
      "authorship_tag": "ABX9TyPPtaZqzSkSvS5w2aa3AIO3",
      "include_colab_link": true
    },
    "kernelspec": {
      "name": "python3",
      "display_name": "Python 3"
    },
    "language_info": {
      "name": "python"
    }
  },
  "cells": [
    {
      "cell_type": "markdown",
      "metadata": {
        "id": "view-in-github",
        "colab_type": "text"
      },
      "source": [
        "<a href=\"https://colab.research.google.com/github/deepralhan26/Machine-Learning-from-scratch/blob/master/linear_regression.ipynb\" target=\"_parent\"><img src=\"https://colab.research.google.com/assets/colab-badge.svg\" alt=\"Open In Colab\"/></a>"
      ]
    },
    {
      "cell_type": "code",
      "metadata": {
        "id": "y6w4nr1aRwJ2"
      },
      "source": [
        "import numpy as np\n",
        "class linearregression:\n",
        "  def __init__(self , alpha = 0.003 , iteration = 1000000):\n",
        "    self.alpha = alpha\n",
        "    self.iteration = iteration\n",
        "    self.para = None\n",
        "    self.n = None\n",
        "    self.m = None\n",
        "  def normalise(self , x_train , y_train):\n",
        "    self.n = x_train.shape[1]\n",
        "    self.m = x_train.shape[0]\n",
        "    y_train = y_train.reshape(self.m , 1)\n",
        "    colmean = np.mean(x_train , axis=0).reshape(1 , self.n)\n",
        "    stdev = np.std(x_train ,axis = 0).reshape(1, self.n)\n",
        "    x_train = x_train - colmean\n",
        "    x_train = np.divide(x_train , stdev)\n",
        "  def fit(self , X_train , y_train):\n",
        "    self.n = X_train.shape[1]\n",
        "    self.m = X_train.shape[0]\n",
        "    y_train = y_train.reshape(self.m , 1)\n",
        "    x_train = np.insert(X_train , 0 , 1.0 , axis = 1)\n",
        "    self.para = np.random.rand(self.n + 1, 1)\n",
        "    for l in range(self.iteration):\n",
        "      y_pred = np.dot(x_train , self.para).reshape(self.m , 1)\n",
        "      self.para-= self.alpha*np.dot(x_train.T,(y_pred-y_train))/(x_train.shape[0])\n",
        "  \n",
        "  def traincost(self , X_train , y_train):\n",
        "    x_train = np.insert(X_train , 0 , 1.0 , axis = 1)\n",
        "    y_pred = np.matmul(x_train , self.para)\n",
        "    final_cost=np.sum((y_pred-y_train)**2)/(2*(x_train.shape[0]))\n",
        "    return final_cost\n",
        "  def testcost(self , X_test , y_test):\n",
        "    y_test = y_test.reshape(x_test.shape[0] , 1)\n",
        "    x_test = np.insert(X_test , 0 , 1.0 , axis = 1)\n",
        "    y_pred = np.dot(x_test , self.para).reshape(x_test.shape[0] , 1)\n",
        "    final_cost=np.sum((y_pred-y_test)**2)/(2*(x_test.shape[0]))\n",
        "    return final_cost\n",
        "  def predict(self , X_test):\n",
        "    x_test = np.insert(X_test , 0 , 1.0 , axis = 1)\n",
        "    y_pred = np.dot(x_test , self.para).reshape(x_test.shape[0] , 1)\n",
        "    return y_pred\n",
        "  "
      ],
      "execution_count": 1,
      "outputs": []
    },
    {
      "cell_type": "code",
      "metadata": {
        "id": "0fDlmZ72soqy"
      },
      "source": [
        "import numpy as np\n",
        "class linear_regression2:\n",
        "    def __init__(self,alpha=0.00003,iteration=90000):\n",
        "        self.alpha=alpha\n",
        "        self.iteration=iteration\n",
        "        self.para=None\n",
        "        self.constan=None\n",
        "        self.n = None #n features\n",
        "        self.m = None # m examples\n",
        "    def normalise(self , x_train , y_train):\n",
        "      self.n = x_train.shape[1]\n",
        "      self.m = x_train.shape[0]\n",
        "      y_train = y_train.reshape(self.m , 1)\n",
        "      colmean = np.mean(x_train , axis=0).reshape(1 , self.n)\n",
        "      stdev = np.std(x_train ,axis = 0).reshape(1, self.n)\n",
        "      x_train = x_train - colmean\n",
        "      x_train = np.divide(x_train , stdev)\n",
        "    def fit(self,x_train,y_train):\n",
        "        self.para=np.zeros(x_train.shape[1])\n",
        "        self.constan=0\n",
        "        cost=[]\n",
        "        \n",
        "        for i in range(self.iteration):\n",
        "            y_predicted=x_train.dot(self.para)+self.constan\n",
        "            self.para-=self.alpha*np.dot(x_train.T,(y_predicted-y_train))/(x_train.shape[0])\n",
        "            self.constan-=self.alpha*np.sum(y_predicted-y_train)/(x_train.shape[0])\n",
        "    def predict(self,x_test):\n",
        "        y_prediction=np.dot(x_test,self.para)+self.constan\n",
        "        return y_prediction\n",
        "    \n",
        "   "
      ],
      "execution_count": 2,
      "outputs": []
    },
    {
      "cell_type": "code",
      "metadata": {
        "id": "izHBULcatgBt"
      },
      "source": [
        ""
      ],
      "execution_count": 2,
      "outputs": []
    }
  ]
}