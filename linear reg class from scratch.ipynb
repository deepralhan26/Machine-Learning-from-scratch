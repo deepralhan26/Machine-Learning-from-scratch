{
 "cells": [
  {
   "cell_type": "code",
   "execution_count": null,
   "metadata": {},
   "outputs": [],
   "source": [
    "import numpy as np\n",
    "\n",
    "class LinearRegression(object):\n",
    "    def __init__(self,x,y,alpha=0.03,no_of_iterations=1500):\n",
    "        self.m = x.shape[0]\n",
    "        self.n = x.shape[1]\n",
    "        self.alpha = alpha\n",
    "        self.x = x\n",
    "        self.no_of_iterations = no_of_iterations\n",
    "        self.x= self.x - (self.x).mean(axis=0)\n",
    "        max = np.abs(self.x).max(axis=0)\n",
    "        max[max==0] = 1\n",
    "        self.x = self.x / max\n",
    "        self.y =y\n",
    "        self.para = np.zeros((self.n,1))\n",
    "        self.c = 0\n",
    "\n",
    "    def fit(self):\n",
    "        self.y_prid = (self.x).dot(self.para) + self.c\n",
    "        for i in range(self.no_of_iterations):\n",
    "            self.para = self.para -(self.alpha/self.m)*(self.x.T).dot(self.y_prid - self.y)\n",
    "            self.c-=self.alpha*np.sum(self.y_prid-self.y)/(self.m)\n",
    "            self.y_prid = (self.x).dot(self.para) + self.c\n",
    "        self.y_prid = (self.x).dot(self.para) + self.c  \n",
    "        loss = (0.5/self.m)*(((self.y_prid-self.y)**2).sum())\n",
    "        return loss\n",
    "    def prid(self, X=None):\n",
    "        if (X==None):\n",
    "            X = self.x\n",
    "        else:\n",
    "            X= X - (X).mean(axis=0)\n",
    "            max = np.abs(X.max(axis=0))\n",
    "            max[max==0] = 1\n",
    "            X = X / max\n",
    "        y_prid = (X).dot(self.para) + self.c\n",
    "        return y_prid\n",
    "    def loss(self):\n",
    "        loss = (0.5/self.m)*(((self.y_prid-self.y)**2).sum())\n",
    "        return loss\n",
    "    def para(self):\n",
    "        return self.para\n",
    "    def constant(self):\n",
    "        return self.c\n",
    "    def score(self,X=None,Y = None):\n",
    "        if (X==None):\n",
    "            X = self.x\n",
    "        else:\n",
    "            X= X - (X).mean(axis=0)\n",
    "            max = np.abs(X.max(axis=0))\n",
    "            max[max==0] = 1\n",
    "            X = X / max\n",
    "        y_prid = (X).dot(self.para) + self.c\n",
    "        if (Y==None):\n",
    "            Y = self.y\n",
    "        score = 1 - (((Y - y_prid)**2).sum() / ((Y - (Y).mean())**2).sum())\n",
    "        return score "
   ]
  }
 ],
 "metadata": {
  "kernelspec": {
   "display_name": "Python 3",
   "language": "python",
   "name": "python3"
  },
  "language_info": {
   "codemirror_mode": {
    "name": "ipython",
    "version": 3
   },
   "file_extension": ".py",
   "mimetype": "text/x-python",
   "name": "python",
   "nbconvert_exporter": "python",
   "pygments_lexer": "ipython3",
   "version": "3.8.3"
  }
 },
 "nbformat": 4,
 "nbformat_minor": 2
}
