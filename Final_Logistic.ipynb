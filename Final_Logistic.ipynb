{
  "nbformat": 4,
  "nbformat_minor": 0,
  "metadata": {
    "colab": {
      "name": "Final Logistic",
      "provenance": [],
      "collapsed_sections": [],
      "authorship_tag": "ABX9TyMtysRu2bmLUSHGVC1el03g",
      "include_colab_link": true
    },
    "kernelspec": {
      "name": "python3",
      "display_name": "Python 3"
    },
    "language_info": {
      "name": "python"
    }
  },
  "cells": [
    {
      "cell_type": "markdown",
      "metadata": {
        "id": "view-in-github",
        "colab_type": "text"
      },
      "source": [
        "<a href=\"https://colab.research.google.com/github/deepralhan26/Machine-Learning-from-scratch/blob/master/Final_Logistic.ipynb\" target=\"_parent\"><img src=\"https://colab.research.google.com/assets/colab-badge.svg\" alt=\"Open In Colab\"/></a>"
      ]
    },
    {
      "cell_type": "code",
      "metadata": {
        "id": "WvTySLhAo0m-"
      },
      "source": [
        "import numpy as np\n",
        "class Logistic:\n",
        "  def __init__(self , alpha=0.001 , itera = 1000000000):\n",
        "    self.alpha = alpha\n",
        "    self.itera = itera\n",
        "    self.para = None\n",
        "    self.b = None\n",
        "  def sigmoid(self, z):\n",
        "    s = 1 / (1 + np.exp(-z))\n",
        "    return s\n",
        "  def fit(self , x , y):\n",
        "    # x shape m ,n -- y shape m , 1  w = n,1 xw shape = m,1 \n",
        "    m = x.shape[0]\n",
        "    n = x.shape[1]\n",
        "    y = y.reshape(m , 1)\n",
        "    self.para = np.zeros(shape = (n , 1 ))\n",
        "    self.b = float(0)\n",
        "    for l in range(self.itera):\n",
        "      A = self.sigmoid(np.dot(x,self.para) + self.b)\n",
        "      A = A.reshape(m , 1)\n",
        "      cost = (-1.0/float(m))*(np.sum(y*np.log(A) + (1-y)*np.log(1-A)))\n",
        "      dw = (1.0/float(m))*(np.dot((x).T , (A - y)))\n",
        "      db = (1.0/float(m))*(np.sum(A - y))\n",
        "      self.para = self.para - (self.alpha*dw)\n",
        "      self.b = self.b - (self.alpha*db)\n",
        "      if (l%100 == 0):\n",
        "        print(cost)\n",
        "  def cost(self , x , y):\n",
        "    m = x.shape[0]\n",
        "    A = self.sigmoid(np.dot(x,self.para) + self.b)\n",
        "    A = A.reshape(m , 1)\n",
        "    cost = (-1.0/float(m))*(np.sum(y*np.log(A) + (1-y)*np.log(1-A)))\n",
        "    return cost\n",
        "  def predict(self , x):\n",
        "    m = x.shape[0]\n",
        "    y_pred = np.zeros(shape = (m , 1))\n",
        "    A = self.sigmoid(np.dot(x,self.para) + self.b)\n",
        "    A = A.reshape(m,1)\n",
        "    for i in range(m):\n",
        "      y_pred[i,0] = 1 if A[i,0] > 0.5 else 0\n",
        "    return y_pred\n",
        "  def score(self, X, y):\n",
        "        y_pred = self.predict(X)\n",
        "        m = y.shape[0]\n",
        "        y_pred.reshape(m , 1)\n",
        "        y.reshape(m,1)\n",
        "        return np.mean(y_pred == y)   \n",
        "    \n",
        "    "
      ],
      "execution_count": 2,
      "outputs": []
    }
  ]
}