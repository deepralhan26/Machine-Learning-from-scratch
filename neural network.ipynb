{
 "cells": [
  {
   "cell_type": "code",
   "execution_count": 0,
   "metadata": {
    "colab": {},
    "colab_type": "code",
    "id": "da-MjfUYfkkf"
   },
   "outputs": [],
   "source": [
    "import pandas as pd\n",
    "import numpy as np\n",
    "import matplotlib.pyplot as plt\n",
    "from sklearn.datasets import load_digits\n",
    "digits=load_digits()"
   ]
  },
  {
   "cell_type": "code",
   "execution_count": 0,
   "metadata": {
    "colab": {
     "base_uri": "https://localhost:8080/",
     "height": 151
    },
    "colab_type": "code",
    "id": "bhO1PT56e1-j",
    "outputId": "f7161d45-5351-4147-8d41-64c3bda71451"
   },
   "outputs": [
    {
     "name": "stdout",
     "output_type": "stream",
     "text": [
      "[[0]\n",
      " [1]\n",
      " [2]\n",
      " ...\n",
      " [8]\n",
      " [9]\n",
      " [8]]\n"
     ]
    },
    {
     "data": {
      "text/plain": [
       "(64, 1797)"
      ]
     },
     "execution_count": 7,
     "metadata": {
      "tags": []
     },
     "output_type": "execute_result"
    }
   ],
   "source": [
    "X=digits.data\n",
    "X=X/255\n",
    "X=X.T\n",
    "y=digits.target\n",
    "y=y.reshape(-1,1)\n",
    "print(y)\n",
    "X.shape"
   ]
  },
  {
   "cell_type": "code",
   "execution_count": 0,
   "metadata": {
    "colab": {
     "base_uri": "https://localhost:8080/",
     "height": 34
    },
    "colab_type": "code",
    "id": "Dn6tTVZ9Sss-",
    "outputId": "59ac1576-04a9-4b8a-d643-42a991172dff"
   },
   "outputs": [
    {
     "data": {
      "text/plain": [
       "(10, 1797)"
      ]
     },
     "execution_count": 8,
     "metadata": {
      "tags": []
     },
     "output_type": "execute_result"
    }
   ],
   "source": [
    "from sklearn.preprocessing import OneHotEncoder \n",
    "ohe = OneHotEncoder()\n",
    "Y= ohe.fit_transform(y).toarray() \n",
    "Y=Y.T\n",
    "Y.shape\n",
    "\n"
   ]
  },
  {
   "cell_type": "code",
   "execution_count": 0,
   "metadata": {
    "colab": {},
    "colab_type": "code",
    "id": "a79WF7WQS6NC"
   },
   "outputs": [],
   "source": [
    "class neuralnetworks:\n",
    "  def __init__(self,alpha=1,iterations=2000,n_hiddennodes=100):\n",
    "    self.alpha=alpha\n",
    "    self.iterations=iterations\n",
    "    self.n_hiddennodes=n_hiddennodes\n",
    "    self.w1=None\n",
    "    self.w2=None\n",
    "    self.b1=None\n",
    "    self.b2=None\n",
    "    self.predictions=None\n",
    "  def activate(self,z):\n",
    "    return 1/(1+np.exp(-z)) \n",
    "  def forwardprop(self,x_train,y_train):\n",
    "    n_output,n_samples=y_train.shape\n",
    "    n_features=x_train.shape[0]\n",
    "    self.w1=np.random.randn(self.n_hiddennodes,n_features)\n",
    "    self.b1=np.zeros((self.n_hiddennodes,1))\n",
    "    self.w2=np.random.randn(n_output,self.n_hiddennodes)\n",
    "    self.b2=np.zeros((n_output,1))\n",
    "  def loss(self,y_train,y_predicted):\n",
    "    loss=-np.sum(np.multiply(y_train,np.log(y_predicted)))/y_train.shape[1]\n",
    "    return loss\n",
    "  def backprop(self,y_train,x_train):\n",
    "    for i in range(2000):\n",
    "      Z1 = np.matmul(self.w1,X) + self.b1\n",
    "      A1 = self.activate(Z1)\n",
    "      Z2 = np.matmul(self.w2,A1) + self.b2\n",
    "      A2 = np.exp(Z2) / np.sum(np.exp(Z2), axis=0)\n",
    "      self.predictions=A2\n",
    "      cost = self.loss(y_train, A2)\n",
    "      m=y_train.shape[1]\n",
    "      dZ2 = A2-y_train\n",
    "      dW2 = (1/m) * np.matmul(dZ2, A1.T)\n",
    "      db2 = (1/m) * np.sum(dZ2, axis=1, keepdims=True)\n",
    "\n",
    "      dA1 = np.matmul(self.w2.T, dZ2)\n",
    "      dZ1 = dA1 * self.activate(Z1) * (1 - self.activate(Z1))\n",
    "      dW1 = (1/m) * np.matmul(dZ1, x_train.T)\n",
    "      db1 = (1/m) * np.sum(dZ1, axis=1, keepdims=True)\n",
    "\n",
    "      self.w2 -=self.alpha * dW2\n",
    "      self.b2 -=self.alpha * db2\n",
    "      self.w1 -=self.alpha * dW1\n",
    "      self.b1 -=self.alpha * db1\n",
    "\n",
    "    print(\"Final cost:\", cost)\n",
    "   \n",
    "  def train(self,x_train,y_train):\n",
    "    self.forwardprop(x_train,y_train)\n",
    "    self.backprop(y_train,x_train)\n",
    "    self.accuracy(y_train)\n",
    "  def accuracy(self,y_train):\n",
    "    from sklearn.metrics import classification_report\n",
    "    self.prediction = np.argmax(self.predictions, axis=0)\n",
    "    labels = np.argmax(y_train, axis=0)\n",
    "    print(classification_report(self.prediction, labels))\n",
    "    print(\"acc=\",np.mean(self.predictions.round()==y_train)*100)\n",
    "                                                                          \n",
    "    \n",
    "\n"
   ]
  },
  {
   "cell_type": "code",
   "execution_count": 0,
   "metadata": {
    "colab": {
     "base_uri": "https://localhost:8080/",
     "height": 336
    },
    "colab_type": "code",
    "id": "8oWYW6rsTN_I",
    "outputId": "e15cccda-046c-40a4-d160-694dbe577374"
   },
   "outputs": [
    {
     "name": "stdout",
     "output_type": "stream",
     "text": [
      "Final cost: 0.1941398723040511\n",
      "              precision    recall  f1-score   support\n",
      "\n",
      "           0       0.99      0.99      0.99       179\n",
      "           1       0.92      0.90      0.91       185\n",
      "           2       0.99      0.99      0.99       176\n",
      "           3       0.95      1.00      0.97       173\n",
      "           4       0.97      0.98      0.97       179\n",
      "           5       0.96      0.95      0.96       184\n",
      "           6       0.97      0.99      0.98       178\n",
      "           7       0.98      0.97      0.98       181\n",
      "           8       0.91      0.90      0.90       176\n",
      "           9       0.94      0.91      0.92       186\n",
      "\n",
      "    accuracy                           0.96      1797\n",
      "   macro avg       0.96      0.96      0.96      1797\n",
      "weighted avg       0.96      0.96      0.96      1797\n",
      "\n",
      "acc= 99.10406232609905\n"
     ]
    }
   ],
   "source": [
    "n=neuralnetworks()\n",
    "n.train(X,Y)\n",
    "\n"
   ]
  },
  {
   "cell_type": "code",
   "execution_count": 0,
   "metadata": {
    "colab": {},
    "colab_type": "code",
    "id": "dnu4HsNbtnpg"
   },
   "outputs": [],
   "source": [
    "\n"
   ]
  },
  {
   "cell_type": "code",
   "execution_count": 0,
   "metadata": {
    "colab": {},
    "colab_type": "code",
    "id": "u5aO1JPtt4Bl"
   },
   "outputs": [],
   "source": [
    "\n"
   ]
  },
  {
   "cell_type": "code",
   "execution_count": 0,
   "metadata": {
    "colab": {},
    "colab_type": "code",
    "id": "P2_aE_qYMyxW"
   },
   "outputs": [],
   "source": [
    ""
   ]
  }
 ],
 "metadata": {
  "colab": {
   "name": "2layerneuralnetwork.ipynb",
   "provenance": []
  },
  "kernelspec": {
   "display_name": "Python 3",
   "name": "python3"
  }
 },
 "nbformat": 4,
 "nbformat_minor": 0
}
