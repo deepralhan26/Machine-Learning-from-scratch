{
 "cells": [
  {
   "cell_type": "markdown",
   "metadata": {
    "colab_type": "text",
    "id": "view-in-github"
   },
   "source": [
    "<a href=\"https://colab.research.google.com/github/saksham20aggarwal/woc-ml-library/blob/master/knn.ipynb\" target=\"_parent\"><img src=\"https://colab.research.google.com/assets/colab-badge.svg\" alt=\"Open In Colab\"/></a>"
   ]
  },
  {
   "cell_type": "code",
   "execution_count": 0,
   "metadata": {
    "colab": {},
    "colab_type": "code",
    "id": "gtbPN6r3kSYF"
   },
   "outputs": [],
   "source": [
    "import numpy as np\n",
    "import pandas as pd\n",
    "from collections import Counter"
   ]
  },
  {
   "cell_type": "code",
   "execution_count": 0,
   "metadata": {
    "colab": {},
    "colab_type": "code",
    "id": "EeS8JoNKkcsf"
   },
   "outputs": [],
   "source": [
    "\n",
    "class KNN:\n",
    "    def __init__(self, neighbors=5):\n",
    "        self.neighbors = neighbors      \n",
    "        \n",
    "    def fit(self, x_train, y_train):\n",
    "        self.x_train = np.array(x_train)\n",
    "        self.y_train = np.array(y_train)\n",
    "        \n",
    "    def distances(self, X):\n",
    "        x = np.array(X)\n",
    "        distancelist = []\n",
    "        for index, data_point in enumerate(self.x_train):\n",
    "            data_point = np.array(data_point)\n",
    "            distance = np.sqrt(np.sum((data_point - x)**2))\n",
    "            distancelist.append([distance, y_train[index]])\n",
    "            \n",
    "        return distancelist\n",
    "            \n",
    "    def classs(self, distancelist):\n",
    "        distances_sorted = sorted(distancelist)[:self.neighbors]\n",
    "        label = Counter([distance[1] for distance in distances_sorted]).most_common(1)[0][0]\n",
    "        \n",
    "        return [label]\n",
    "    \n",
    "    def predict(self, X):\n",
    "        predicted = []\n",
    "        for i in X:\n",
    "            distances = self.distances(i)\n",
    "            predicted.append(self.classs(distances))\n",
    "        return np.array(predicted)\n",
    "    \n",
    "    def score(self, X, y):\n",
    "        predicted = self.predict(X)\n",
    "        y = y.reshape(-1,1)\n",
    "        correct= predicted==y\n",
    "        \n",
    "        return np.mean(correct)"
   ]
  },
  {
   "cell_type": "code",
   "execution_count": 0,
   "metadata": {
    "colab": {},
    "colab_type": "code",
    "id": "FDozCNVLkdto"
   },
   "outputs": [],
   "source": [
    "knn = KNN(neighbors=4)"
   ]
  },
  {
   "cell_type": "code",
   "execution_count": 0,
   "metadata": {
    "colab": {},
    "colab_type": "code",
    "id": "1LeNxQvSkkqi"
   },
   "outputs": [],
   "source": [
    "from sklearn.datasets import load_digits\n",
    "digits = load_digits()"
   ]
  },
  {
   "cell_type": "code",
   "execution_count": 0,
   "metadata": {
    "colab": {},
    "colab_type": "code",
    "id": "oCgVaduTks1D"
   },
   "outputs": [],
   "source": [
    "\n",
    "from sklearn.model_selection import train_test_split\n",
    "x_train, x_test, y_train, y_test = train_test_split(digits.data, digits.target, test_size=0.25)"
   ]
  },
  {
   "cell_type": "code",
   "execution_count": 0,
   "metadata": {
    "colab": {},
    "colab_type": "code",
    "id": "3dYukzsikwFr"
   },
   "outputs": [],
   "source": [
    "knn.fit(x_train, y_train)"
   ]
  },
  {
   "cell_type": "code",
   "execution_count": 155,
   "metadata": {
    "colab": {
     "base_uri": "https://localhost:8080/",
     "height": 34
    },
    "colab_type": "code",
    "id": "V8EIWvSdk0vh",
    "outputId": "12146888-4495-43be-a24d-71fb537bb7fb"
   },
   "outputs": [
    {
     "data": {
      "text/plain": [
       "0.9844444444444445"
      ]
     },
     "execution_count": 155,
     "metadata": {
      "tags": []
     },
     "output_type": "execute_result"
    }
   ],
   "source": [
    "knn.score(x_test, y_test)"
   ]
  },
  {
   "cell_type": "code",
   "execution_count": 0,
   "metadata": {
    "colab": {},
    "colab_type": "code",
    "id": "CXtgM14pk_E2"
   },
   "outputs": [],
   "source": [
    "\n"
   ]
  },
  {
   "cell_type": "code",
   "execution_count": 0,
   "metadata": {
    "colab": {},
    "colab_type": "code",
    "id": "t40eK_cHIuFl"
   },
   "outputs": [],
   "source": [
    ""
   ]
  }
 ],
 "metadata": {
  "colab": {
   "include_colab_link": true,
   "name": "Untitled3.ipynb",
   "provenance": []
  },
  "kernelspec": {
   "display_name": "Python 3",
   "name": "python3"
  }
 },
 "nbformat": 4,
 "nbformat_minor": 0
}
